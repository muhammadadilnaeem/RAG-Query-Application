{
 "cells": [
  {
   "cell_type": "markdown",
   "metadata": {},
   "source": [
    "-----\n",
    "\n",
    "# **Building RAG Using LlamaIndex**\n",
    "\n",
    "```python\n",
    "\n",
    "Install these libraries\n",
    "\n",
    "!pip install llama-index\n",
    "!pip install llama-hub\n",
    "!pip install openai\n",
    "```\n",
    "\n",
    "----"
   ]
  },
  {
   "cell_type": "markdown",
   "metadata": {},
   "source": [
    "### **Setting Up OpenAI Key**"
   ]
  },
  {
   "cell_type": "code",
   "execution_count": 2,
   "metadata": {},
   "outputs": [],
   "source": [
    "import os\n",
    "import openai\n",
    "os.environ[\"OPENAI_API_KEY\"] = \"sk-proj-*********************************\""
   ]
  },
  {
   "cell_type": "markdown",
   "metadata": {},
   "source": [
    "### **Importing Libraries**"
   ]
  },
  {
   "cell_type": "code",
   "execution_count": 1,
   "metadata": {},
   "outputs": [],
   "source": [
    "from llama_index.core import VectorStoreIndex, SimpleDirectoryReader"
   ]
  },
  {
   "cell_type": "markdown",
   "metadata": {},
   "source": [
    "### **Loading Documents**"
   ]
  },
  {
   "cell_type": "code",
   "execution_count": 4,
   "metadata": {},
   "outputs": [
    {
     "name": "stderr",
     "output_type": "stream",
     "text": [
      "e:\\llma-index\\rag\\Lib\\site-packages\\tqdm\\auto.py:21: TqdmWarning: IProgress not found. Please update jupyter and ipywidgets. See https://ipywidgets.readthedocs.io/en/stable/user_install.html\n",
      "  from .autonotebook import tqdm as notebook_tqdm\n",
      "Generating embeddings: 100%|██████████| 10/10 [00:02<00:00,  3.57it/s]\n"
     ]
    }
   ],
   "source": [
    "documents = SimpleDirectoryReader('data').load_data()\n",
    "index = VectorStoreIndex(documents,show_progress=True)"
   ]
  },
  {
   "cell_type": "markdown",
   "metadata": {},
   "source": [
    "### **Persisting Index (Save the Index in vectorized format in folder)**"
   ]
  },
  {
   "cell_type": "code",
   "execution_count": 5,
   "metadata": {},
   "outputs": [],
   "source": [
    "index.storage_context.persist(persist_dir=\"Embeddings\")"
   ]
  },
  {
   "cell_type": "markdown",
   "metadata": {},
   "source": [
    "### **Let's query our index with a query(Mean load the same index that we persisted or stored in embedding folder)**"
   ]
  },
  {
   "cell_type": "code",
   "execution_count": 6,
   "metadata": {},
   "outputs": [
    {
     "data": {
      "text/plain": [
       "<llama_index.core.indices.vector_store.base.VectorStoreIndex at 0x16156349c70>"
      ]
     },
     "execution_count": 6,
     "metadata": {},
     "output_type": "execute_result"
    }
   ],
   "source": [
    "from llama_index.core import StorageContext,load_index_from_storage\n",
    "storage_context= StorageContext.from_defaults(persist_dir=\"Embeddings\")\n",
    "index = load_index_from_storage(storage_context)\n",
    "index"
   ]
  },
  {
   "cell_type": "code",
   "execution_count": 7,
   "metadata": {},
   "outputs": [
    {
     "data": {
      "text/plain": [
       "Response(response='Sarah Patel, John Doe', source_nodes=[NodeWithScore(node=Document(id_='fe568bfc-37c5-4106-bc7e-ad18f48ab1bd', embedding=None, metadata={'file_path': 'e:\\\\llma-index\\\\Session 5\\\\data\\\\5.txt', 'file_name': '5.txt', 'file_type': 'text/plain', 'file_size': 1937, 'creation_date': '2024-06-30', 'last_modified_date': '2024-06-30'}, excluded_embed_metadata_keys=['file_name', 'file_type', 'file_size', 'creation_date', 'last_modified_date', 'last_accessed_date'], excluded_llm_metadata_keys=['file_name', 'file_type', 'file_size', 'creation_date', 'last_modified_date', 'last_accessed_date'], relationships={}, text='5. Sarah Patel\\r\\nGenerative AI Researcher | Deep Learning Expert\\r\\nSummary\\r\\nAccomplished generative AI researcher with a strong background in deep learning. Skilled in developing novel deep learning architectures and techniques for various generative tasks, including image, text, and audio generation. Passionate about advancing the field of artificial intelligence through research and innovation.\\r\\nSkills\\r\\nProficient in Python, TensorFlow, PyTorch, and Keras\\r\\nExpertise in designing and implementing deep learning models from scratch\\r\\nKnowledge of state-of-the-art generative AI techniques such as GANs, VAEs, and diffusion models\\r\\nStrong mathematical and statistical background\\r\\nExcellent research and analytical skills\\r\\nExperience\\r\\nGenerative AI Researcher, ABC AI Research Institute (2022 - Present)\\r\\nConducted research on novel deep learning architectures and techniques for improved generative performance\\r\\nDeveloped and optimized diffusion models for high-quality image generation, achieving state-of-the-art results on benchmark datasets\\r\\nCollaborated with cross-functional teams to publish research papers in top-tier AI conferences and journals\\r\\nGraduate Research Assistant, University of Technology (2020 - 2022)\\r\\nAssisted in the design and implementation of GAN models for text generation\\r\\nConducted experiments and analyzed results to improve the performance of generative AI models\\r\\nParticipated in code reviews and documentation to ensure code quality and maintainability\\r\\nEducation\\r\\nDoctor of Philosophy in Computer Science, University of Technology (2020 - 2024)\\r\\nSpecialization in Artificial Intelligence and Machine Learning\\r\\nDissertation: \"Advancing Variational Autoencoders for High-Quality Audio Generation\"\\r\\nMaster of Science in Computer Science, State University (2018 - 2020)\\r\\nSpecialization in Artificial Intelligence and Machine Learning\\r\\nThesis: \"Improving Generative Adversarial Networks for Text Generation\"', mimetype='text/plain', start_char_idx=None, end_char_idx=None, text_template='{metadata_str}\\n\\n{content}', metadata_template='{key}: {value}', metadata_seperator='\\n'), score=0.71376063185354), NodeWithScore(node=Document(id_='4c1776cc-a5b2-4086-be5b-43c4033069f0', embedding=None, metadata={'file_path': 'e:\\\\llma-index\\\\Session 5\\\\data\\\\6.txt', 'file_name': '6.txt', 'file_type': 'text/plain', 'file_size': 1688, 'creation_date': '2024-06-30', 'last_modified_date': '2024-06-30'}, excluded_embed_metadata_keys=['file_name', 'file_type', 'file_size', 'creation_date', 'last_modified_date', 'last_accessed_date'], excluded_llm_metadata_keys=['file_name', 'file_type', 'file_size', 'creation_date', 'last_modified_date', 'last_accessed_date'], relationships={}, text='6. John Doe\\r\\nDeep Learning Enthusiast | Generative AI Developer\\r\\nSummary\\r\\nPassionate deep learning enthusiast with a strong interest in generative AI. Skilled in developing and optimizing deep learning models for various applications, including image, text, and audio generation. Committed to advancing the field of artificial intelligence through continuous learning and innovation.\\r\\nSkills\\r\\nProficient in Python, TensorFlow, PyTorch, and Keras\\r\\nKnowledge of deep learning architectures such as CNNs, RNNs, and transformers\\r\\nFamiliarity with state-of-the-art generative AI techniques such as GANs, VAEs, and diffusion models\\r\\nExcellent problem-solving and analytical skills\\r\\nEager to learn and adapt to new technologies and techniques\\r\\nExperience\\r\\nGenerative AI Developer, XYZ Tech Startup (2021 - Present)\\r\\nDeveloped and optimized GAN models for high-quality image generation, achieving state-of-the-art results on benchmark datasets\\r\\nImplemented transformer-based models for text generation, enabling the creation of coherent and contextually relevant content\\r\\nCollaborated with cross-functional teams to integrate generative AI models into various applications and platforms\\r\\nDeep Learning Intern, ABC Research Lab (2020 - 2021)\\r\\nAssisted in the design and implementation of VAE models for audio generation\\r\\nConducted research on novel deep learning architectures and techniques for improved generative performance\\r\\nParticipated in code reviews and documentation to ensure code quality and maintainability\\r\\nEducation\\r\\nBachelor of Science in Computer Science, University of Technology (2017 - 2021)\\r\\nSpecialization in Artificial Intelligence and Machine Learning\\r\\nGraduated with Honors', mimetype='text/plain', start_char_idx=None, end_char_idx=None, text_template='{metadata_str}\\n\\n{content}', metadata_template='{key}: {value}', metadata_seperator='\\n'), score=0.7117003119202141)], metadata={'fe568bfc-37c5-4106-bc7e-ad18f48ab1bd': {'file_path': 'e:\\\\llma-index\\\\Session 5\\\\data\\\\5.txt', 'file_name': '5.txt', 'file_type': 'text/plain', 'file_size': 1937, 'creation_date': '2024-06-30', 'last_modified_date': '2024-06-30'}, '4c1776cc-a5b2-4086-be5b-43c4033069f0': {'file_path': 'e:\\\\llma-index\\\\Session 5\\\\data\\\\6.txt', 'file_name': '6.txt', 'file_type': 'text/plain', 'file_size': 1688, 'creation_date': '2024-06-30', 'last_modified_date': '2024-06-30'}})"
      ]
     },
     "execution_count": 7,
     "metadata": {},
     "output_type": "execute_result"
    }
   ],
   "source": [
    "querry_engine = index.as_query_engine()\n",
    "querry_engine.query(\"give me the list of canidates?\")"
   ]
  }
 ],
 "metadata": {
  "kernelspec": {
   "display_name": "rag",
   "language": "python",
   "name": "python3"
  },
  "language_info": {
   "codemirror_mode": {
    "name": "ipython",
    "version": 3
   },
   "file_extension": ".py",
   "mimetype": "text/x-python",
   "name": "python",
   "nbconvert_exporter": "python",
   "pygments_lexer": "ipython3",
   "version": "3.12.2"
  }
 },
 "nbformat": 4,
 "nbformat_minor": 2
}
